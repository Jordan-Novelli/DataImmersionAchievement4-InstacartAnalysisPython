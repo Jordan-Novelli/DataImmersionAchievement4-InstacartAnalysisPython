{
 "cells": [
  {
   "cell_type": "markdown",
   "id": "34936230-f51e-44b3-a08c-703681d0a9b2",
   "metadata": {},
   "source": [
    "# DI 4.9 - PRACTICE"
   ]
  },
  {
   "cell_type": "markdown",
   "id": "ba8428ee-2f25-4c98-a809-c75af263c306",
   "metadata": {},
   "source": [
    "## Importing Libraries"
   ]
  },
  {
   "cell_type": "code",
   "execution_count": 122,
   "id": "16e3fec9-77a5-4c4d-8c05-2fabd1487a28",
   "metadata": {},
   "outputs": [],
   "source": [
    "# Importing Libraries\n",
    "\n",
    "import pandas as pd\n",
    "import numpy as np\n",
    "import os\n",
    "import matplotlib.pyplot as plt\n",
    "import seaborn as sns\n",
    "import scipy"
   ]
  },
  {
   "cell_type": "code",
   "execution_count": 123,
   "id": "415e478b-3f64-4d0b-b896-64c2e33f29bc",
   "metadata": {},
   "outputs": [],
   "source": [
    "# Import Merged Pickle DF from Prepared Data from Exercise 4.8\n",
    "\n",
    "ords_prods_merge = pd.read_pickle(r'D:\\Career Foundry\\2) Data Immersion\\4) Python Fundamentals for Data Analysts\\DI 4.2 - Jupyter Folder\\Instacart Basket Analysis\\02 Data\\Prepared Data\\ords_prods_merge_4.8.pkl')"
   ]
  },
  {
   "cell_type": "code",
   "execution_count": 124,
   "id": "73c404e6-7497-4595-ae50-476c39d2cb61",
   "metadata": {},
   "outputs": [],
   "source": [
    "# Creating Path\n",
    "\n",
    "path=r'D:\\Career Foundry\\2) Data Immersion\\4) Python Fundamentals for Data Analysts\\DI 4.2 - Jupyter Folder\\Instacart Basket Analysis'"
   ]
  },
  {
   "cell_type": "markdown",
   "id": "167ca252-1d93-4b2c-a6b9-41d39f959555",
   "metadata": {},
   "source": [
    "## Getting a look at the DF"
   ]
  },
  {
   "cell_type": "code",
   "execution_count": 126,
   "id": "8d7131b3-280d-4d11-bddd-e8ecdf5862fb",
   "metadata": {},
   "outputs": [
    {
     "name": "stdout",
     "output_type": "stream",
     "text": [
      "<class 'pandas.core.frame.DataFrame'>\n",
      "RangeIndex: 32404859 entries, 0 to 32404858\n",
      "Data columns (total 26 columns):\n",
      " #   Column                  Dtype   \n",
      "---  ------                  -----   \n",
      " 0   Unnamed: 0_x            int64   \n",
      " 1   product_id              int64   \n",
      " 2   product_name            object  \n",
      " 3   aisle_id                int64   \n",
      " 4   department_id           int64   \n",
      " 5   prices                  float64 \n",
      " 6   Unnamed: 0_y            int64   \n",
      " 7   order_id                int64   \n",
      " 8   user_id                 int64   \n",
      " 9   eval_set                object  \n",
      " 10  order_number            int64   \n",
      " 11  order_dow               int64   \n",
      " 12  order_hour_of_day       int64   \n",
      " 13  days_since_prior_order  float64 \n",
      " 14  add_to_cart_order       int64   \n",
      " 15  reordered               int64   \n",
      " 16  _merge                  category\n",
      " 17  merge_source            category\n",
      " 18  price_range_loc         object  \n",
      " 19  Busiest day             object  \n",
      " 20  Busiest days            object  \n",
      " 21  busiest_period_of_day   object  \n",
      " 22  max_order               int64   \n",
      " 23  loyalty_flag            object  \n",
      " 24  spender_type            object  \n",
      " 25  freq                    object  \n",
      "dtypes: category(2), float64(2), int64(13), object(9)\n",
      "memory usage: 5.9+ GB\n"
     ]
    }
   ],
   "source": [
    "ords_prods_merge.info()"
   ]
  },
  {
   "cell_type": "code",
   "execution_count": 127,
   "id": "13c12018-5be4-4b7d-ac32-7ed7cf4684e9",
   "metadata": {},
   "outputs": [
    {
     "data": {
      "text/plain": [
       "<bound method NDFrame.describe of           Unnamed: 0_x  product_id                product_name  aisle_id  \\\n",
       "0                    0           1  Chocolate Sandwich Cookies        61   \n",
       "1                    0           1  Chocolate Sandwich Cookies        61   \n",
       "2                    0           1  Chocolate Sandwich Cookies        61   \n",
       "3                    0           1  Chocolate Sandwich Cookies        61   \n",
       "4                    0           1  Chocolate Sandwich Cookies        61   \n",
       "...                ...         ...                         ...       ...   \n",
       "32404854         49692       49688      Fresh Foaming Cleanser        73   \n",
       "32404855         49692       49688      Fresh Foaming Cleanser        73   \n",
       "32404856         49692       49688      Fresh Foaming Cleanser        73   \n",
       "32404857         49692       49688      Fresh Foaming Cleanser        73   \n",
       "32404858         49692       49688      Fresh Foaming Cleanser        73   \n",
       "\n",
       "          department_id  prices  Unnamed: 0_y  order_id  user_id eval_set  \\\n",
       "0                    19     5.8          1987   3139998      138    prior   \n",
       "1                    19     5.8          1989   1977647      138    prior   \n",
       "2                    19     5.8         11433    389851      709    prior   \n",
       "3                    19     5.8         12198    652770      764    prior   \n",
       "4                    19     5.8         12200   1813452      764    prior   \n",
       "...                 ...     ...           ...       ...      ...      ...   \n",
       "32404854             11    13.5       3321928   1788356   200215    prior   \n",
       "32404855             11    13.5       3324686   3401313   200377    prior   \n",
       "32404856             11    13.5       3332310    809510   200873    prior   \n",
       "32404857             11    13.5       3332314   2359893   200873    prior   \n",
       "32404858             11    13.5       3416620   2385091   205926    prior   \n",
       "\n",
       "          ...  _merge  merge_source    price_range_loc     Busiest day  \\\n",
       "0         ...    both          both  Mid-range product  Regularly busy   \n",
       "1         ...    both          both  Mid-range product  Regularly busy   \n",
       "2         ...    both          both  Mid-range product    Busiest days   \n",
       "3         ...    both          both  Mid-range product  Regularly busy   \n",
       "4         ...    both          both  Mid-range product      Least busy   \n",
       "...       ...     ...           ...                ...             ...   \n",
       "32404854  ...    both          both                NaN    Busiest days   \n",
       "32404855  ...    both          both                NaN      Least busy   \n",
       "32404856  ...    both          both                NaN  Regularly busy   \n",
       "32404857  ...    both          both                NaN  Regularly busy   \n",
       "32404858  ...    both          both                NaN  Regularly busy   \n",
       "\n",
       "            Busiest days  busiest_period_of_day max_order      loyalty_flag  \\\n",
       "0         Regularly busy            Most orders        32  Regular customer   \n",
       "1         Regularly busy         Average orders        32  Regular customer   \n",
       "2           Busiest days         Average orders         5      New customer   \n",
       "3             Least busy            Most orders         3      New customer   \n",
       "4             Least busy         Average orders         3      New customer   \n",
       "...                  ...                    ...       ...               ...   \n",
       "32404854    Busiest days            Most orders         6      New customer   \n",
       "32404855      Least busy            Most orders         4      New customer   \n",
       "32404856      Least busy         Average orders        20  Regular customer   \n",
       "32404857      Least busy            Most orders        20  Regular customer   \n",
       "32404858    Busiest days            Most orders        11  Regular customer   \n",
       "\n",
       "          spender_type               freq  \n",
       "0          Low spender  Frequent customer  \n",
       "1          Low spender   Regular customer  \n",
       "2          Low spender  Frequent customer  \n",
       "3          Low spender          10.948718  \n",
       "4          Low spender  Frequent customer  \n",
       "...                ...                ...  \n",
       "32404854  High spender  Frequent customer  \n",
       "32404855  High spender          22.816327  \n",
       "32404856  High spender   Regular customer  \n",
       "32404857  High spender  Frequent customer  \n",
       "32404858  High spender  Frequent customer  \n",
       "\n",
       "[32404859 rows x 26 columns]>"
      ]
     },
     "execution_count": 127,
     "metadata": {},
     "output_type": "execute_result"
    }
   ],
   "source": [
    "ords_prods_merge.describe"
   ]
  },
  {
   "cell_type": "code",
   "execution_count": 128,
   "id": "f118e08e-c647-4258-b508-14c7cb7fa871",
   "metadata": {},
   "outputs": [
    {
     "data": {
      "text/plain": [
       "(32404859, 26)"
      ]
     },
     "execution_count": 128,
     "metadata": {},
     "output_type": "execute_result"
    }
   ],
   "source": [
    "ords_prods_merge.shape"
   ]
  },
  {
   "cell_type": "markdown",
   "id": "af731be1-cf0c-4117-b89b-174cdee71da1",
   "metadata": {},
   "source": [
    "## Bar Charts"
   ]
  },
  {
   "cell_type": "code",
   "execution_count": 130,
   "id": "43d50d8d-e6e0-456e-bc02-55fba995c460",
   "metadata": {},
   "outputs": [
    {
     "data": {
      "text/plain": [
       "<Axes: xlabel='order_dow'>"
      ]
     },
     "execution_count": 130,
     "metadata": {},
     "output_type": "execute_result"
    },
    {
     "data": {
      "image/png": "[encoded data removed]",
      "text/plain": [
       "<Figure size 640x480 with 1 Axes>"
      ]
     },
     "metadata": {},
     "output_type": "display_data"
    }
   ],
   "source": [
    "# Creating a Bar Chart\n",
    "\n",
    "ords_prods_merge['order_dow'].value_counts().plot.bar()"
   ]
  },
  {
   "cell_type": "code",
   "execution_count": 131,
   "id": "812961ac-2b94-41a5-bd8d-0b60e8d31677",
   "metadata": {},
   "outputs": [
    {
     "data": {
      "text/plain": [
       "<Axes: xlabel='order_dow'>"
      ]
     },
     "execution_count": 131,
     "metadata": {},
     "output_type": "execute_result"
    },
    {
     "data": {
      "image/png": "[encoded data removed]",
      "text/plain": [
       "<Figure size 640x480 with 1 Axes>"
      ]
     },
     "metadata": {},
     "output_type": "display_data"
    }
   ],
   "source": [
    "# Creating a Bar Chart with Color\n",
    "\n",
    "ords_prods_merge['order_dow'].value_counts().plot.bar(color =['red', 'turquoise', 'purple', 'green', 'maroon', 'chartreuse', 'coral'])"
   ]
  },
  {
   "cell_type": "markdown",
   "id": "7d29c871-6fcf-43db-ac91-0c0ff34edf84",
   "metadata": {},
   "source": [
    "## Exporting Charts"
   ]
  },
  {
   "cell_type": "code",
   "execution_count": 133,
   "id": "ad80647c-512e-411c-89d8-2356dd498f9d",
   "metadata": {},
   "outputs": [
    {
     "data": {
      "image/png": "[encoded data removed]",
      "text/plain": [
       "<Figure size 640x480 with 1 Axes>"
      ]
     },
     "metadata": {},
     "output_type": "display_data"
    }
   ],
   "source": [
    "# Saving the Bar Chart within \"bar\"\n",
    "\n",
    "bar = ords_prods_merge['order_dow'].value_counts().plot.bar(color =['red', 'turquoise', 'purple', 'green', 'maroon', 'chartreuse', 'coral'])"
   ]
  },
  {
   "cell_type": "code",
   "execution_count": 134,
   "id": "ef0f875a-bc66-4037-bab1-b09e7857d663",
   "metadata": {},
   "outputs": [],
   "source": [
    "# Exporting Bar Chart Image\n",
    "\n",
    "bar.figure.savefig(os.path.join(path, '04 Analysis','Visualizations', 'bar_order_dow_4.9.png'))"
   ]
  },
  {
   "cell_type": "markdown",
   "id": "93724e81-ca17-4194-a951-2cb55ca30033",
   "metadata": {},
   "source": [
    "## Exporting Charts"
   ]
  },
  {
   "cell_type": "code",
   "execution_count": 136,
   "id": "feff61ee-9a93-4558-9d0d-525e6610cc4c",
   "metadata": {},
   "outputs": [
    {
     "data": {
      "image/png": "[encoded data removed]",
      "text/plain": [
       "<Figure size 640x480 with 1 Axes>"
      ]
     },
     "metadata": {},
     "output_type": "display_data"
    }
   ],
   "source": [
    "# Saving Bar Chart as \"bar\"\n",
    "\n",
    "bar = ords_prods_merge['order_dow'].value_counts().plot.bar(color =['red', 'turquoise', 'purple', 'green', 'maroon', 'chartreuse', 'coral'])"
   ]
  },
  {
   "cell_type": "code",
   "execution_count": 137,
   "id": "62d1298b-a99f-4b13-9b09-d6fcaebf913d",
   "metadata": {},
   "outputs": [],
   "source": [
    "# Exporting outside of Jupyter\n",
    "\n",
    "bar.figure.savefig(os.path.join(path, '04 Analysis','Visualizations', 'bar_order_dow_4.9.png'))"
   ]
  },
  {
   "cell_type": "markdown",
   "id": "b863f963-fba7-40e4-9ad2-4e4996bbff66",
   "metadata": {},
   "source": [
    "## Histograms and Scatterplots"
   ]
  },
  {
   "cell_type": "code",
   "execution_count": 139,
   "id": "e9912ae6-cad2-47bf-8e29-8dd8c3a630d9",
   "metadata": {},
   "outputs": [
    {
     "data": {
      "text/plain": [
       "<Axes: ylabel='Frequency'>"
      ]
     },
     "execution_count": 139,
     "metadata": {},
     "output_type": "execute_result"
    },
    {
     "data": {
      "image/png": "[encoded data removed]",
      "text/plain": [
       "<Figure size 640x480 with 1 Axes>"
      ]
     },
     "metadata": {},
     "output_type": "display_data"
    }
   ],
   "source": [
    "# Creating Histogram of Prices Column\n",
    "\n",
    "ords_prods_merge['prices'].plot.hist(bins = 25)"
   ]
  },
  {
   "cell_type": "code",
   "execution_count": 140,
   "id": "e52b546e-7114-4057-9fab-28040901cf6a",
   "metadata": {},
   "outputs": [
    {
     "data": {
      "text/plain": [
       "11.980225638383468"
      ]
     },
     "execution_count": 140,
     "metadata": {},
     "output_type": "execute_result"
    }
   ],
   "source": [
    "# Checking descriptive data for Prices (mean)\n",
    "\n",
    "ords_prods_merge['prices'].mean()"
   ]
  },
  {
   "cell_type": "code",
   "execution_count": 141,
   "id": "d39821d7-ffb2-40d2-a091-771d1af49908",
   "metadata": {},
   "outputs": [
    {
     "data": {
      "text/plain": [
       "7.4"
      ]
     },
     "execution_count": 141,
     "metadata": {},
     "output_type": "execute_result"
    }
   ],
   "source": [
    "# Checking descriptive data for Prices (median)\n",
    "\n",
    "ords_prods_merge['prices'].median()"
   ]
  },
  {
   "cell_type": "code",
   "execution_count": 142,
   "id": "787c6496-fe70-416f-b243-b0009c2b3d2a",
   "metadata": {},
   "outputs": [
    {
     "data": {
      "text/plain": [
       "99999.0"
      ]
     },
     "execution_count": 142,
     "metadata": {},
     "output_type": "execute_result"
    }
   ],
   "source": [
    "# Checking descriptive data for Prices (max)\n",
    "\n",
    "ords_prods_merge['prices'].max()"
   ]
  },
  {
   "cell_type": "code",
   "execution_count": 143,
   "id": "e6a0942f-4f20-4d4e-a48c-9f9904bbb0d0",
   "metadata": {},
   "outputs": [
    {
     "data": {
      "text/plain": [
       "<Axes: xlabel='prices', ylabel='prices'>"
      ]
     },
     "execution_count": 143,
     "metadata": {},
     "output_type": "execute_result"
    },
    {
     "data": {
      "image/png": "[encoded data removed]",
      "text/plain": [
       "<Figure size 640x480 with 1 Axes>"
      ]
     },
     "metadata": {},
     "output_type": "display_data"
    }
   ],
   "source": [
    "# Creating a Scatterplot to find outliers\n",
    "\n",
    "sns.scatterplot(x = 'prices', y = 'prices',data = ords_prods_merge)"
   ]
  },
  {
   "cell_type": "code",
   "execution_count": 144,
   "id": "42e4cef1-8985-4e28-86f3-059d560e9c4d",
   "metadata": {},
   "outputs": [
    {
     "data": {
      "text/html": [
       "<div>\n",
       "<style scoped>\n",
       "    .dataframe tbody tr th:only-of-type {\n",
       "        vertical-align: middle;\n",
       "    }\n",
       "\n",
       "    .dataframe tbody tr th {\n",
       "        vertical-align: top;\n",
       "    }\n",
       "\n",
       "    .dataframe thead th {\n",
       "        text-align: right;\n",
       "    }\n",
       "</style>\n",
       "<table border=\"1\" class=\"dataframe\">\n",
       "  <thead>\n",
       "    <tr style=\"text-align: right;\">\n",
       "      <th></th>\n",
       "      <th>Unnamed: 0_x</th>\n",
       "      <th>product_id</th>\n",
       "      <th>product_name</th>\n",
       "      <th>aisle_id</th>\n",
       "      <th>department_id</th>\n",
       "      <th>prices</th>\n",
       "      <th>Unnamed: 0_y</th>\n",
       "      <th>order_id</th>\n",
       "      <th>user_id</th>\n",
       "      <th>eval_set</th>\n",
       "      <th>...</th>\n",
       "      <th>_merge</th>\n",
       "      <th>merge_source</th>\n",
       "      <th>price_range_loc</th>\n",
       "      <th>Busiest day</th>\n",
       "      <th>Busiest days</th>\n",
       "      <th>busiest_period_of_day</th>\n",
       "      <th>max_order</th>\n",
       "      <th>loyalty_flag</th>\n",
       "      <th>spender_type</th>\n",
       "      <th>freq</th>\n",
       "    </tr>\n",
       "  </thead>\n",
       "  <tbody>\n",
       "    <tr>\n",
       "      <th>13100147</th>\n",
       "      <td>21554</td>\n",
       "      <td>21553</td>\n",
       "      <td>Lowfat 2% Milkfat Cottage Cheese</td>\n",
       "      <td>108</td>\n",
       "      <td>16</td>\n",
       "      <td>14900.0</td>\n",
       "      <td>171</td>\n",
       "      <td>912404</td>\n",
       "      <td>17</td>\n",
       "      <td>prior</td>\n",
       "      <td>...</td>\n",
       "      <td>both</td>\n",
       "      <td>both</td>\n",
       "      <td>High-range product</td>\n",
       "      <td>Regularly busy</td>\n",
       "      <td>Regularly busy</td>\n",
       "      <td>Most orders</td>\n",
       "      <td>40</td>\n",
       "      <td>Regular customer</td>\n",
       "      <td>High spender</td>\n",
       "      <td>Frequent customer</td>\n",
       "    </tr>\n",
       "    <tr>\n",
       "      <th>13100148</th>\n",
       "      <td>21554</td>\n",
       "      <td>21553</td>\n",
       "      <td>Lowfat 2% Milkfat Cottage Cheese</td>\n",
       "      <td>108</td>\n",
       "      <td>16</td>\n",
       "      <td>14900.0</td>\n",
       "      <td>181</td>\n",
       "      <td>603376</td>\n",
       "      <td>17</td>\n",
       "      <td>prior</td>\n",
       "      <td>...</td>\n",
       "      <td>both</td>\n",
       "      <td>both</td>\n",
       "      <td>High-range product</td>\n",
       "      <td>Regularly busy</td>\n",
       "      <td>Regularly busy</td>\n",
       "      <td>Most orders</td>\n",
       "      <td>40</td>\n",
       "      <td>Regular customer</td>\n",
       "      <td>High spender</td>\n",
       "      <td>Frequent customer</td>\n",
       "    </tr>\n",
       "    <tr>\n",
       "      <th>13100149</th>\n",
       "      <td>21554</td>\n",
       "      <td>21553</td>\n",
       "      <td>Lowfat 2% Milkfat Cottage Cheese</td>\n",
       "      <td>108</td>\n",
       "      <td>16</td>\n",
       "      <td>14900.0</td>\n",
       "      <td>1944</td>\n",
       "      <td>3264360</td>\n",
       "      <td>135</td>\n",
       "      <td>prior</td>\n",
       "      <td>...</td>\n",
       "      <td>both</td>\n",
       "      <td>both</td>\n",
       "      <td>High-range product</td>\n",
       "      <td>Regularly busy</td>\n",
       "      <td>Regularly busy</td>\n",
       "      <td>Average orders</td>\n",
       "      <td>4</td>\n",
       "      <td>New customer</td>\n",
       "      <td>High spender</td>\n",
       "      <td>Regular customer</td>\n",
       "    </tr>\n",
       "    <tr>\n",
       "      <th>13100150</th>\n",
       "      <td>21554</td>\n",
       "      <td>21553</td>\n",
       "      <td>Lowfat 2% Milkfat Cottage Cheese</td>\n",
       "      <td>108</td>\n",
       "      <td>16</td>\n",
       "      <td>14900.0</td>\n",
       "      <td>1945</td>\n",
       "      <td>892534</td>\n",
       "      <td>135</td>\n",
       "      <td>prior</td>\n",
       "      <td>...</td>\n",
       "      <td>both</td>\n",
       "      <td>both</td>\n",
       "      <td>High-range product</td>\n",
       "      <td>Busiest days</td>\n",
       "      <td>Busiest days</td>\n",
       "      <td>Average orders</td>\n",
       "      <td>4</td>\n",
       "      <td>New customer</td>\n",
       "      <td>High spender</td>\n",
       "      <td>Regular customer</td>\n",
       "    </tr>\n",
       "    <tr>\n",
       "      <th>13100151</th>\n",
       "      <td>21554</td>\n",
       "      <td>21553</td>\n",
       "      <td>Lowfat 2% Milkfat Cottage Cheese</td>\n",
       "      <td>108</td>\n",
       "      <td>16</td>\n",
       "      <td>14900.0</td>\n",
       "      <td>5708</td>\n",
       "      <td>229704</td>\n",
       "      <td>342</td>\n",
       "      <td>prior</td>\n",
       "      <td>...</td>\n",
       "      <td>both</td>\n",
       "      <td>both</td>\n",
       "      <td>High-range product</td>\n",
       "      <td>Regularly busy</td>\n",
       "      <td>Busiest days</td>\n",
       "      <td>Average orders</td>\n",
       "      <td>16</td>\n",
       "      <td>Regular customer</td>\n",
       "      <td>High spender</td>\n",
       "      <td>Non-frequent customer</td>\n",
       "    </tr>\n",
       "    <tr>\n",
       "      <th>...</th>\n",
       "      <td>...</td>\n",
       "      <td>...</td>\n",
       "      <td>...</td>\n",
       "      <td>...</td>\n",
       "      <td>...</td>\n",
       "      <td>...</td>\n",
       "      <td>...</td>\n",
       "      <td>...</td>\n",
       "      <td>...</td>\n",
       "      <td>...</td>\n",
       "      <td>...</td>\n",
       "      <td>...</td>\n",
       "      <td>...</td>\n",
       "      <td>...</td>\n",
       "      <td>...</td>\n",
       "      <td>...</td>\n",
       "      <td>...</td>\n",
       "      <td>...</td>\n",
       "      <td>...</td>\n",
       "      <td>...</td>\n",
       "      <td>...</td>\n",
       "    </tr>\n",
       "    <tr>\n",
       "      <th>21786876</th>\n",
       "      <td>33666</td>\n",
       "      <td>33664</td>\n",
       "      <td>2 % Reduced Fat  Milk</td>\n",
       "      <td>84</td>\n",
       "      <td>16</td>\n",
       "      <td>99999.0</td>\n",
       "      <td>3386542</td>\n",
       "      <td>2249946</td>\n",
       "      <td>204099</td>\n",
       "      <td>prior</td>\n",
       "      <td>...</td>\n",
       "      <td>both</td>\n",
       "      <td>both</td>\n",
       "      <td>High-range product</td>\n",
       "      <td>Busiest days</td>\n",
       "      <td>Busiest days</td>\n",
       "      <td>Average orders</td>\n",
       "      <td>39</td>\n",
       "      <td>Regular customer</td>\n",
       "      <td>High spender</td>\n",
       "      <td>Frequent customer</td>\n",
       "    </tr>\n",
       "    <tr>\n",
       "      <th>21786877</th>\n",
       "      <td>33666</td>\n",
       "      <td>33664</td>\n",
       "      <td>2 % Reduced Fat  Milk</td>\n",
       "      <td>84</td>\n",
       "      <td>16</td>\n",
       "      <td>99999.0</td>\n",
       "      <td>3386544</td>\n",
       "      <td>2363282</td>\n",
       "      <td>204099</td>\n",
       "      <td>prior</td>\n",
       "      <td>...</td>\n",
       "      <td>both</td>\n",
       "      <td>both</td>\n",
       "      <td>High-range product</td>\n",
       "      <td>Busiest days</td>\n",
       "      <td>Busiest days</td>\n",
       "      <td>Most orders</td>\n",
       "      <td>39</td>\n",
       "      <td>Regular customer</td>\n",
       "      <td>High spender</td>\n",
       "      <td>Frequent customer</td>\n",
       "    </tr>\n",
       "    <tr>\n",
       "      <th>21786878</th>\n",
       "      <td>33666</td>\n",
       "      <td>33664</td>\n",
       "      <td>2 % Reduced Fat  Milk</td>\n",
       "      <td>84</td>\n",
       "      <td>16</td>\n",
       "      <td>99999.0</td>\n",
       "      <td>3391313</td>\n",
       "      <td>3181945</td>\n",
       "      <td>204395</td>\n",
       "      <td>prior</td>\n",
       "      <td>...</td>\n",
       "      <td>both</td>\n",
       "      <td>both</td>\n",
       "      <td>High-range product</td>\n",
       "      <td>Regularly busy</td>\n",
       "      <td>Least busy</td>\n",
       "      <td>Most orders</td>\n",
       "      <td>15</td>\n",
       "      <td>Regular customer</td>\n",
       "      <td>High spender</td>\n",
       "      <td>Frequent customer</td>\n",
       "    </tr>\n",
       "    <tr>\n",
       "      <th>21786879</th>\n",
       "      <td>33666</td>\n",
       "      <td>33664</td>\n",
       "      <td>2 % Reduced Fat  Milk</td>\n",
       "      <td>84</td>\n",
       "      <td>16</td>\n",
       "      <td>99999.0</td>\n",
       "      <td>3405096</td>\n",
       "      <td>2486215</td>\n",
       "      <td>205227</td>\n",
       "      <td>prior</td>\n",
       "      <td>...</td>\n",
       "      <td>both</td>\n",
       "      <td>both</td>\n",
       "      <td>High-range product</td>\n",
       "      <td>Regularly busy</td>\n",
       "      <td>Least busy</td>\n",
       "      <td>Average orders</td>\n",
       "      <td>12</td>\n",
       "      <td>Regular customer</td>\n",
       "      <td>High spender</td>\n",
       "      <td>Frequent customer</td>\n",
       "    </tr>\n",
       "    <tr>\n",
       "      <th>21786880</th>\n",
       "      <td>33666</td>\n",
       "      <td>33664</td>\n",
       "      <td>2 % Reduced Fat  Milk</td>\n",
       "      <td>84</td>\n",
       "      <td>16</td>\n",
       "      <td>99999.0</td>\n",
       "      <td>3405099</td>\n",
       "      <td>2232716</td>\n",
       "      <td>205227</td>\n",
       "      <td>prior</td>\n",
       "      <td>...</td>\n",
       "      <td>both</td>\n",
       "      <td>both</td>\n",
       "      <td>High-range product</td>\n",
       "      <td>Busiest days</td>\n",
       "      <td>Busiest days</td>\n",
       "      <td>Most orders</td>\n",
       "      <td>12</td>\n",
       "      <td>Regular customer</td>\n",
       "      <td>High spender</td>\n",
       "      <td>Frequent customer</td>\n",
       "    </tr>\n",
       "  </tbody>\n",
       "</table>\n",
       "<p>5127 rows × 26 columns</p>\n",
       "</div>"
      ],
      "text/plain": [
       "          Unnamed: 0_x  product_id                      product_name  \\\n",
       "13100147         21554       21553  Lowfat 2% Milkfat Cottage Cheese   \n",
       "13100148         21554       21553  Lowfat 2% Milkfat Cottage Cheese   \n",
       "13100149         21554       21553  Lowfat 2% Milkfat Cottage Cheese   \n",
       "13100150         21554       21553  Lowfat 2% Milkfat Cottage Cheese   \n",
       "13100151         21554       21553  Lowfat 2% Milkfat Cottage Cheese   \n",
       "...                ...         ...                               ...   \n",
       "21786876         33666       33664             2 % Reduced Fat  Milk   \n",
       "21786877         33666       33664             2 % Reduced Fat  Milk   \n",
       "21786878         33666       33664             2 % Reduced Fat  Milk   \n",
       "21786879         33666       33664             2 % Reduced Fat  Milk   \n",
       "21786880         33666       33664             2 % Reduced Fat  Milk   \n",
       "\n",
       "          aisle_id  department_id   prices  Unnamed: 0_y  order_id  user_id  \\\n",
       "13100147       108             16  14900.0           171    912404       17   \n",
       "13100148       108             16  14900.0           181    603376       17   \n",
       "13100149       108             16  14900.0          1944   3264360      135   \n",
       "13100150       108             16  14900.0          1945    892534      135   \n",
       "13100151       108             16  14900.0          5708    229704      342   \n",
       "...            ...            ...      ...           ...       ...      ...   \n",
       "21786876        84             16  99999.0       3386542   2249946   204099   \n",
       "21786877        84             16  99999.0       3386544   2363282   204099   \n",
       "21786878        84             16  99999.0       3391313   3181945   204395   \n",
       "21786879        84             16  99999.0       3405096   2486215   205227   \n",
       "21786880        84             16  99999.0       3405099   2232716   205227   \n",
       "\n",
       "         eval_set  ...  _merge  merge_source     price_range_loc  \\\n",
       "13100147    prior  ...    both          both  High-range product   \n",
       "13100148    prior  ...    both          both  High-range product   \n",
       "13100149    prior  ...    both          both  High-range product   \n",
       "13100150    prior  ...    both          both  High-range product   \n",
       "13100151    prior  ...    both          both  High-range product   \n",
       "...           ...  ...     ...           ...                 ...   \n",
       "21786876    prior  ...    both          both  High-range product   \n",
       "21786877    prior  ...    both          both  High-range product   \n",
       "21786878    prior  ...    both          both  High-range product   \n",
       "21786879    prior  ...    both          both  High-range product   \n",
       "21786880    prior  ...    both          both  High-range product   \n",
       "\n",
       "             Busiest day    Busiest days  busiest_period_of_day max_order  \\\n",
       "13100147  Regularly busy  Regularly busy            Most orders        40   \n",
       "13100148  Regularly busy  Regularly busy            Most orders        40   \n",
       "13100149  Regularly busy  Regularly busy         Average orders         4   \n",
       "13100150    Busiest days    Busiest days         Average orders         4   \n",
       "13100151  Regularly busy    Busiest days         Average orders        16   \n",
       "...                  ...             ...                    ...       ...   \n",
       "21786876    Busiest days    Busiest days         Average orders        39   \n",
       "21786877    Busiest days    Busiest days            Most orders        39   \n",
       "21786878  Regularly busy      Least busy            Most orders        15   \n",
       "21786879  Regularly busy      Least busy         Average orders        12   \n",
       "21786880    Busiest days    Busiest days            Most orders        12   \n",
       "\n",
       "              loyalty_flag  spender_type                   freq  \n",
       "13100147  Regular customer  High spender      Frequent customer  \n",
       "13100148  Regular customer  High spender      Frequent customer  \n",
       "13100149      New customer  High spender       Regular customer  \n",
       "13100150      New customer  High spender       Regular customer  \n",
       "13100151  Regular customer  High spender  Non-frequent customer  \n",
       "...                    ...           ...                    ...  \n",
       "21786876  Regular customer  High spender      Frequent customer  \n",
       "21786877  Regular customer  High spender      Frequent customer  \n",
       "21786878  Regular customer  High spender      Frequent customer  \n",
       "21786879  Regular customer  High spender      Frequent customer  \n",
       "21786880  Regular customer  High spender      Frequent customer  \n",
       "\n",
       "[5127 rows x 26 columns]"
      ]
     },
     "execution_count": 144,
     "metadata": {},
     "output_type": "execute_result"
    }
   ],
   "source": [
    "# Checkingfor outlier supermarket costs\n",
    "\n",
    "ords_prods_merge.loc[ords_prods_merge['prices'] > 100]"
   ]
  },
  {
   "cell_type": "code",
   "execution_count": 145,
   "id": "70bcc831-e46e-492b-8343-b2712b481992",
   "metadata": {},
   "outputs": [],
   "source": [
    "# Turning Outlier costs into NaNs\n",
    "\n",
    "ords_prods_merge.loc[ords_prods_merge['prices'] >100, 'prices'] = np.nan"
   ]
  },
  {
   "cell_type": "markdown",
   "id": "8e3cb1e5-f591-4bd4-9697-8f33ba02ec49",
   "metadata": {},
   "source": [
    "##### I'm chosing to leave this \"cleaning\" step in this practice as it does give a good representation of how mistakes can happen and how you can fix them."
   ]
  },
  {
   "cell_type": "code",
   "execution_count": 147,
   "id": "8493b6fc-0078-45b3-9e08-bfa45ee9dee1",
   "metadata": {},
   "outputs": [
    {
     "data": {
      "text/plain": [
       "<Axes: ylabel='Frequency'>"
      ]
     },
     "execution_count": 147,
     "metadata": {},
     "output_type": "execute_result"
    },
    {
     "data": {
      "image/png": "[encoded data removed]",
      "text/plain": [
       "<Figure size 640x480 with 1 Axes>"
      ]
     },
     "metadata": {},
     "output_type": "display_data"
    }
   ],
   "source": [
    "# Rerunning Histogram of Prices Column\n",
    "\n",
    "ords_prods_merge['prices'].plot.hist(bins = 25)"
   ]
  },
  {
   "cell_type": "code",
   "execution_count": 148,
   "id": "69a9df28-e2ed-4db1-802d-34c51d948b85",
   "metadata": {},
   "outputs": [
    {
     "data": {
      "text/plain": [
       "<Axes: ylabel='Frequency'>"
      ]
     },
     "execution_count": 148,
     "metadata": {},
     "output_type": "execute_result"
    },
    {
     "data": {
      "image/png": "[encoded data removed]",
      "text/plain": [
       "<Figure size 640x480 with 1 Axes>"
      ]
     },
     "metadata": {},
     "output_type": "display_data"
    }
   ],
   "source": [
    "# Increasing Bin size of Histogram to 70\n",
    "\n",
    "# Creating Histogram of Prices Column\n",
    "\n",
    "ords_prods_merge['prices'].plot.hist(bins = 70)"
   ]
  },
  {
   "cell_type": "code",
   "execution_count": 149,
   "id": "530f9c2d-6828-47ce-9dab-ea2d45bcd9d2",
   "metadata": {},
   "outputs": [
    {
     "data": {
      "image/png": "[encoded data removed]",
      "text/plain": [
       "<Figure size 640x480 with 1 Axes>"
      ]
     },
     "metadata": {},
     "output_type": "display_data"
    }
   ],
   "source": [
    "# saving Histogram\n",
    "\n",
    "hist = ords_prods_merge['prices'].plot.hist(bins = 70)"
   ]
  },
  {
   "cell_type": "code",
   "execution_count": 150,
   "id": "075b262c-70f3-4e23-ac6b-0b940b0571ec",
   "metadata": {},
   "outputs": [],
   "source": [
    "# Exporting Histogram outside of Jupyter\n",
    "\n",
    "hist.figure.savefig(os.path.join(path, '04 Analysis','Visualizations', 'hist_prices_4.9.png'))"
   ]
  },
  {
   "cell_type": "markdown",
   "id": "8a6efbab-0547-461e-925d-14ec154fc9bf",
   "metadata": {},
   "source": [
    "## Line Charts"
   ]
  },
  {
   "cell_type": "code",
   "execution_count": 152,
   "id": "1def77ae-3a6d-4fa8-a464-d27a61551b85",
   "metadata": {},
   "outputs": [],
   "source": [
    "#### Less than ideal with that large data set as you'd be setting your X-axis as \"order_dow\" and the Y-axis as \"prices\". This would likely crash a machine. Even using a subset of 2,000,000 would not yield good representative results. However, we can Sample our Data to get a better representation of it."
   ]
  },
  {
   "cell_type": "markdown",
   "id": "96cf4d11-2b07-44c8-837d-676bb476805d",
   "metadata": {},
   "source": [
    "## Sampling Data"
   ]
  },
  {
   "cell_type": "code",
   "execution_count": 154,
   "id": "188fe7a0-4118-45b2-a8e5-de3e6df8af6f",
   "metadata": {},
   "outputs": [],
   "source": [
    "# 70/30 Split of DF for Sampling\n",
    "\n",
    "np.random.seed(4)\n",
    "dev = np.random.rand(len(ords_prods_merge)) <= 0.7"
   ]
  },
  {
   "cell_type": "code",
   "execution_count": 155,
   "id": "755492a7-2260-464e-8c6b-b8a5697ba283",
   "metadata": {},
   "outputs": [
    {
     "data": {
      "text/plain": [
       "array([False,  True, False, ...,  True,  True,  True])"
      ]
     },
     "execution_count": 155,
     "metadata": {},
     "output_type": "execute_result"
    }
   ],
   "source": [
    "# Looking at the dev\n",
    "\n",
    "dev"
   ]
  },
  {
   "cell_type": "code",
   "execution_count": 156,
   "id": "d87f9b5f-65ad-4b1c-8157-b15ed364c97d",
   "metadata": {},
   "outputs": [],
   "source": [
    "# Storing 70% of sample as big\n",
    "\n",
    "big = ords_prods_merge[dev]"
   ]
  },
  {
   "cell_type": "code",
   "execution_count": 157,
   "id": "6e3d6184-d7e1-488d-acb6-bede21992b8a",
   "metadata": {},
   "outputs": [],
   "source": [
    "# Storing 0% of sample as small\n",
    "\n",
    "small = ords_prods_merge[~dev]"
   ]
  },
  {
   "cell_type": "code",
   "execution_count": 158,
   "id": "f81c50a2-9b4e-4781-939d-d47e499b3b35",
   "metadata": {},
   "outputs": [
    {
     "data": {
      "text/plain": [
       "32404859"
      ]
     },
     "execution_count": 158,
     "metadata": {},
     "output_type": "execute_result"
    }
   ],
   "source": [
    "# Testing I got an accurate split\n",
    "\n",
    "len(ords_prods_merge)"
   ]
  },
  {
   "cell_type": "code",
   "execution_count": 159,
   "id": "8c6067ab-1c1b-4156-bb60-44b87e490b99",
   "metadata": {},
   "outputs": [
    {
     "data": {
      "text/plain": [
       "32404859"
      ]
     },
     "execution_count": 159,
     "metadata": {},
     "output_type": "execute_result"
    }
   ],
   "source": [
    "# Adding 70% and 30% split\n",
    "\n",
    "len(big) + len(small)"
   ]
  },
  {
   "cell_type": "code",
   "execution_count": 160,
   "id": "5051ee32-00e8-4cdb-a743-b204916b33bb",
   "metadata": {},
   "outputs": [],
   "source": [
    "# Reducing sample to only necessary Columns\n",
    "\n",
    "df_2 = small[['order_dow','prices']]"
   ]
  },
  {
   "cell_type": "code",
   "execution_count": 161,
   "id": "7e725706-0b7a-450b-a9cd-bddadf24165b",
   "metadata": {},
   "outputs": [
    {
     "data": {
      "image/png": "[encoded data removed]",
      "text/plain": [
       "<Figure size 640x480 with 1 Axes>"
      ]
     },
     "metadata": {},
     "output_type": "display_data"
    }
   ],
   "source": [
    "# Creating Line Chart with Sample DF\n",
    "\n",
    "line = sns.lineplot(data = df_2, x = 'order_dow',y = 'prices')"
   ]
  },
  {
   "cell_type": "code",
   "execution_count": 196,
   "id": "bae63962-de55-45c3-9989-c6188ca9182a",
   "metadata": {},
   "outputs": [],
   "source": [
    "# Exporting DF\n",
    "\n",
    "ords_prods_merge.to_pickle(os.path.join(path, '02 Data', 'Prepared Data', 'ords_prods_merge_4.9.pkl'))"
   ]
  },
  {
   "cell_type": "code",
   "execution_count": null,
   "id": "ec34cab8-de1b-4136-b9c0-358fc2484943",
   "metadata": {},
   "outputs": [],
   "source": []
  }
 ],
 "metadata": {
  "kernelspec": {
   "display_name": "Python [conda env:base] *",
   "language": "python",
   "name": "conda-base-py"
  },
  "language_info": {
   "codemirror_mode": {
    "name": "ipython",
    "version": 3
   },
   "file_extension": ".py",
   "mimetype": "text/x-python",
   "name": "python",
   "nbconvert_exporter": "python",
   "pygments_lexer": "ipython3",
   "version": "3.12.7"
  }
 },
 "nbformat": 4,
 "nbformat_minor": 5
}
