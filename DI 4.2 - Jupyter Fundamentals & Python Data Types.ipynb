{
 "cells": [
  {
   "cell_type": "markdown",
   "id": "8835e543-a5f5-4ea1-9623-836bc6324359",
   "metadata": {},
   "source": [
    "# 4.2 - Jupyter Fundamentals"
   ]
  },
  {
   "cell_type": "markdown",
   "id": "61460401-d425-498f-8675-b17c9d4025c4",
   "metadata": {},
   "source": [
    "## Importing Libraries"
   ]
  },
  {
   "cell_type": "code",
   "execution_count": 3,
   "id": "73cd71e0-28d1-4f1b-9def-a0cc1bf0d613",
   "metadata": {},
   "outputs": [],
   "source": [
    "# Import libraries\n",
    "import pandas as pd\n",
    "import numpy as np\n",
    "import os"
   ]
  },
  {
   "cell_type": "markdown",
   "id": "29aed9b6-29b3-4d05-8537-a759fee8a567",
   "metadata": {},
   "source": [
    "## Python Data Types"
   ]
  },
  {
   "cell_type": "code",
   "execution_count": 8,
   "id": "e4fb6c4f-3896-4cd2-b7ba-e9c42d819f06",
   "metadata": {},
   "outputs": [],
   "source": [
    "x = 50"
   ]
  },
  {
   "cell_type": "code",
   "execution_count": 10,
   "id": "ec14dda0-11d8-4b3c-968e-227c698591d0",
   "metadata": {},
   "outputs": [],
   "source": [
    "y = 40"
   ]
  },
  {
   "cell_type": "code",
   "execution_count": 12,
   "id": "f4bf71a2-143a-4350-93a4-dc9b7b775d28",
   "metadata": {},
   "outputs": [],
   "source": [
    "z = 10"
   ]
  },
  {
   "cell_type": "code",
   "execution_count": 14,
   "id": "c6306559-a43a-405d-8d16-65cc3da182dc",
   "metadata": {},
   "outputs": [],
   "source": [
    "a = 2"
   ]
  },
  {
   "cell_type": "code",
   "execution_count": 26,
   "id": "ac20341a-21dc-4cb8-bf0d-808603bc62ef",
   "metadata": {},
   "outputs": [],
   "source": [
    "b = 100"
   ]
  },
  {
   "cell_type": "code",
   "execution_count": 18,
   "id": "2fec9312-bb0f-4d94-8c30-00fd57f68165",
   "metadata": {},
   "outputs": [
    {
     "data": {
      "text/plain": [
       "100"
      ]
     },
     "execution_count": 18,
     "metadata": {},
     "output_type": "execute_result"
    }
   ],
   "source": [
    "x+y+z"
   ]
  },
  {
   "cell_type": "code",
   "execution_count": 20,
   "id": "1b793ea5-6efd-477f-8bb7-dc7b00354125",
   "metadata": {},
   "outputs": [
    {
     "data": {
      "text/plain": [
       "100"
      ]
     },
     "execution_count": 20,
     "metadata": {},
     "output_type": "execute_result"
    }
   ],
   "source": [
    "x*a"
   ]
  },
  {
   "cell_type": "code",
   "execution_count": 28,
   "id": "301bc273-ba6b-4311-9a61-91c7b36d6f32",
   "metadata": {},
   "outputs": [
    {
     "data": {
      "text/plain": [
       "100"
      ]
     },
     "execution_count": 28,
     "metadata": {},
     "output_type": "execute_result"
    }
   ],
   "source": [
    "b*a-b"
   ]
  },
  {
   "cell_type": "code",
   "execution_count": 30,
   "id": "ac59f8ed-cabe-44e7-9017-70d978407385",
   "metadata": {},
   "outputs": [],
   "source": [
    "h = 48.68"
   ]
  },
  {
   "cell_type": "code",
   "execution_count": 32,
   "id": "d300afa3-bd03-40e4-9495-8002fe2c68ed",
   "metadata": {},
   "outputs": [],
   "source": [
    "w = 152.39"
   ]
  },
  {
   "cell_type": "code",
   "execution_count": 34,
   "id": "ee5e2916-d60b-4e3f-b962-1aa800d1c5b0",
   "metadata": {},
   "outputs": [
    {
     "data": {
      "text/plain": [
       "0.31944353304022577"
      ]
     },
     "execution_count": 34,
     "metadata": {},
     "output_type": "execute_result"
    }
   ],
   "source": [
    "h/w"
   ]
  },
  {
   "cell_type": "code",
   "execution_count": 36,
   "id": "7716038b-4801-4bbf-a26a-262941f7418a",
   "metadata": {},
   "outputs": [],
   "source": [
    "u = 'Data Analytics'"
   ]
  },
  {
   "cell_type": "code",
   "execution_count": 42,
   "id": "9a53e096-8cf2-44f1-b507-b2ec6d988767",
   "metadata": {},
   "outputs": [],
   "source": [
    "i = ' is cool!'"
   ]
  },
  {
   "cell_type": "code",
   "execution_count": 44,
   "id": "91a06b3a-0198-4a61-a0f6-9cf924985e0b",
   "metadata": {},
   "outputs": [
    {
     "data": {
      "text/plain": [
       "'Data Analytics is cool!'"
      ]
     },
     "execution_count": 44,
     "metadata": {},
     "output_type": "execute_result"
    }
   ],
   "source": [
    "u+i"
   ]
  },
  {
   "cell_type": "code",
   "execution_count": 46,
   "id": "cdd6a2df-168e-41b8-84ec-499065ca7ff7",
   "metadata": {},
   "outputs": [],
   "source": [
    "q = 'I am'"
   ]
  },
  {
   "cell_type": "code",
   "execution_count": 48,
   "id": "f2a9f6b3-e112-48af-b954-67db9786d84d",
   "metadata": {},
   "outputs": [],
   "source": [
    "p = ' an artist'"
   ]
  },
  {
   "cell_type": "code",
   "execution_count": 50,
   "id": "cd0fb9ab-5738-4fce-99a4-07d95d2c646a",
   "metadata": {},
   "outputs": [],
   "source": [
    "o = ' who enjoyes learning'"
   ]
  },
  {
   "cell_type": "code",
   "execution_count": 52,
   "id": "363b1fc4-9dda-44ae-acc1-3275e14d76cf",
   "metadata": {},
   "outputs": [],
   "source": [
    "m = ' something new everyday.'"
   ]
  },
  {
   "cell_type": "code",
   "execution_count": 54,
   "id": "d6b5ce65-2b14-469d-b1db-26dcc995ecca",
   "metadata": {},
   "outputs": [],
   "source": [
    "f = ' a reader who'"
   ]
  },
  {
   "cell_type": "code",
   "execution_count": 56,
   "id": "407f7c8c-c57c-449c-83a6-237c71720c64",
   "metadata": {},
   "outputs": [],
   "source": [
    "g = ' read a 700pg book'"
   ]
  },
  {
   "cell_type": "code",
   "execution_count": 58,
   "id": "ee3628d2-33d3-4dbf-b892-464dc12f494e",
   "metadata": {},
   "outputs": [],
   "source": [
    "r = ' in one month.'"
   ]
  },
  {
   "cell_type": "code",
   "execution_count": 62,
   "id": "dbdd479d-543a-4ef3-a486-331fe69db036",
   "metadata": {},
   "outputs": [
    {
     "data": {
      "text/plain": [
       "'I am an artist who enjoyes learning something new everyday.I am a reader who read a 700pg book in one month.'"
      ]
     },
     "execution_count": 62,
     "metadata": {},
     "output_type": "execute_result"
    }
   ],
   "source": [
    "q+p+o+m+q+f+g+r"
   ]
  },
  {
   "cell_type": "markdown",
   "id": "2641b545-d7c7-4afc-8627-b40c8f303da7",
   "metadata": {},
   "source": [
    "## Bonus"
   ]
  },
  {
   "cell_type": "code",
   "execution_count": 65,
   "id": "b1d92690-0f43-41a6-8f3c-296d3b267d8e",
   "metadata": {},
   "outputs": [
    {
     "data": {
      "text/plain": [
       "'Data AnalyticsData AnalyticsData AnalyticsData AnalyticsData AnalyticsData AnalyticsData AnalyticsData AnalyticsData AnalyticsData AnalyticsData AnalyticsData AnalyticsData AnalyticsData AnalyticsData AnalyticsData AnalyticsData AnalyticsData AnalyticsData AnalyticsData AnalyticsData AnalyticsData AnalyticsData AnalyticsData AnalyticsData AnalyticsData AnalyticsData AnalyticsData AnalyticsData AnalyticsData AnalyticsData AnalyticsData AnalyticsData AnalyticsData AnalyticsData AnalyticsData AnalyticsData AnalyticsData AnalyticsData AnalyticsData AnalyticsData AnalyticsData AnalyticsData AnalyticsData AnalyticsData AnalyticsData AnalyticsData AnalyticsData AnalyticsData AnalyticsData AnalyticsData AnalyticsData AnalyticsData AnalyticsData AnalyticsData AnalyticsData AnalyticsData AnalyticsData AnalyticsData AnalyticsData AnalyticsData AnalyticsData AnalyticsData AnalyticsData AnalyticsData AnalyticsData AnalyticsData AnalyticsData AnalyticsData AnalyticsData AnalyticsData AnalyticsData AnalyticsData AnalyticsData AnalyticsData AnalyticsData AnalyticsData AnalyticsData AnalyticsData AnalyticsData AnalyticsData AnalyticsData AnalyticsData AnalyticsData AnalyticsData AnalyticsData AnalyticsData AnalyticsData AnalyticsData AnalyticsData AnalyticsData AnalyticsData AnalyticsData AnalyticsData AnalyticsData AnalyticsData AnalyticsData AnalyticsData AnalyticsData AnalyticsData Analytics'"
      ]
     },
     "execution_count": 65,
     "metadata": {},
     "output_type": "execute_result"
    }
   ],
   "source": [
    "u*100"
   ]
  }
 ],
 "metadata": {
  "kernelspec": {
   "display_name": "Python [conda env:base] *",
   "language": "python",
   "name": "conda-base-py"
  },
  "language_info": {
   "codemirror_mode": {
    "name": "ipython",
    "version": 3
   },
   "file_extension": ".py",
   "mimetype": "text/x-python",
   "name": "python",
   "nbconvert_exporter": "python",
   "pygments_lexer": "ipython3",
   "version": "3.12.7"
  }
 },
 "nbformat": 4,
 "nbformat_minor": 5
}
